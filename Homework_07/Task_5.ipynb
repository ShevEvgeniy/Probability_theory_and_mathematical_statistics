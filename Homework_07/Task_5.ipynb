{
 "cells": [
  {
   "cell_type": "code",
   "execution_count": 1,
   "id": "72039188",
   "metadata": {},
   "outputs": [],
   "source": [
    "import numpy as np\n",
    "import scipy.stats as stats"
   ]
  },
  {
   "cell_type": "markdown",
   "id": "3f8c8c54",
   "metadata": {},
   "source": [
    "Соствим гипотезы\n",
    "\n",
    "$H_0$ :  $М = 2,5$\n",
    "\n",
    "$H_1$ :  $М \\neq 2.5$"
   ]
  },
  {
   "cell_type": "code",
   "execution_count": 2,
   "id": "a28028ae",
   "metadata": {},
   "outputs": [
    {
     "data": {
      "text/plain": [
       "(2.5279999999999996, 0.1572542173961923)"
      ]
     },
     "execution_count": 2,
     "metadata": {},
     "output_type": "execute_result"
    }
   ],
   "source": [
    "weights = np.array([2.51, 2.35, 2.74, 2.56, 2.40, 2.36, 2.65, 2.7, 2.67, 2.34])\n",
    "n = 10\n",
    "mean = weights.mean()\n",
    "std = weights.std(ddof=1)\n",
    "mean, std"
   ]
  },
  {
   "cell_type": "markdown",
   "id": "36c28281",
   "metadata": {},
   "source": [
    "Поскольку мы проверяем гипотезу относительно математического ожидания нормально распределённой случайной величины\n",
    "с неизвестной дисперсией, будем использовать статистику:\n",
    "$$t = \\dfrac{\\overline{X} - a}{\\sigma_X / \\sqrt{n}}$$"
   ]
  },
  {
   "cell_type": "code",
   "execution_count": 3,
   "id": "1ad18014",
   "metadata": {},
   "outputs": [
    {
     "data": {
      "text/plain": [
       "0.5630613661802959"
      ]
     },
     "execution_count": 3,
     "metadata": {},
     "output_type": "execute_result"
    }
   ],
   "source": [
    "t = (mean-2.5)/(std/np.sqrt(n)) # t- наблюдаемое\n",
    "t"
   ]
  },
  {
   "cell_type": "markdown",
   "id": "ddc10e3c",
   "metadata": {},
   "source": [
    "Доверительная вероятность $= 0.05$, число степеней свободы = $n - 1 = 9$"
   ]
  },
  {
   "cell_type": "markdown",
   "id": "516cbf7d",
   "metadata": {},
   "source": [
    "по таблице Стьюдента находим критическое:  \n",
    "$t_1= 0.064$   \n",
    "$t_2= -0.064$\n",
    "\n",
    "$$\\Omega_\\alpha = (-\\infty, -0.064) \\cup (0.064, \\infty).$$"
   ]
  },
  {
   "cell_type": "markdown",
   "id": "7b66e101",
   "metadata": {},
   "source": [
    "Значение $t$ попадает в критическую область, таким образом, гипотезу $H_1$ не отвергаем, партия изготавливается со средним арифметическим $\\neq 2.5$"
   ]
  }
 ],
 "metadata": {
  "kernelspec": {
   "display_name": "Python 3 (ipykernel)",
   "language": "python",
   "name": "python3"
  },
  "language_info": {
   "codemirror_mode": {
    "name": "ipython",
    "version": 3
   },
   "file_extension": ".py",
   "mimetype": "text/x-python",
   "name": "python",
   "nbconvert_exporter": "python",
   "pygments_lexer": "ipython3",
   "version": "3.9.13"
  }
 },
 "nbformat": 4,
 "nbformat_minor": 5
}
