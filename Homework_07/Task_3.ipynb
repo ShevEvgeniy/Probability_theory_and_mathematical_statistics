{
 "cells": [
  {
   "cell_type": "code",
   "execution_count": 1,
   "id": "a01d1a78",
   "metadata": {},
   "outputs": [],
   "source": [
    "import numpy as np\n",
    "import scipy.stats as stats"
   ]
  },
  {
   "cell_type": "code",
   "execution_count": 2,
   "id": "1e10c0f8",
   "metadata": {},
   "outputs": [
    {
     "data": {
      "text/plain": [
       "WilcoxonResult(statistic=0.0, pvalue=0.0625)"
      ]
     },
     "execution_count": 2,
     "metadata": {},
     "output_type": "execute_result"
    }
   ],
   "source": [
    "x1=np.array([150, 160, 165, 145, 155])\n",
    "x2=np.array([140, 155, 150, 130, 135])\n",
    "alpha=0.05\n",
    "stats.wilcoxon(x1, x2)"
   ]
  },
  {
   "cell_type": "markdown",
   "id": "fcf024bf",
   "metadata": {},
   "source": [
    "$pvalue>\\alpha(0.05)$ статистически значимых различий нет $H_0$ не отвергаем, препарат не влияет на давление"
   ]
  }
 ],
 "metadata": {
  "kernelspec": {
   "display_name": "Python 3 (ipykernel)",
   "language": "python",
   "name": "python3"
  },
  "language_info": {
   "codemirror_mode": {
    "name": "ipython",
    "version": 3
   },
   "file_extension": ".py",
   "mimetype": "text/x-python",
   "name": "python",
   "nbconvert_exporter": "python",
   "pygments_lexer": "ipython3",
   "version": "3.9.13"
  }
 },
 "nbformat": 4,
 "nbformat_minor": 5
}
