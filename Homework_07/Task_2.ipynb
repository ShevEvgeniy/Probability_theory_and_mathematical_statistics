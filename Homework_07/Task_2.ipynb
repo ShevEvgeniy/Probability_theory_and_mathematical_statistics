{
 "cells": [
  {
   "cell_type": "code",
   "execution_count": 1,
   "id": "2e230034",
   "metadata": {},
   "outputs": [],
   "source": [
    "import numpy as np\n",
    "import scipy.stats as stats"
   ]
  },
  {
   "cell_type": "code",
   "execution_count": 2,
   "id": "888ec9c0",
   "metadata": {},
   "outputs": [
    {
     "data": {
      "text/plain": [
       "FriedmanchisquareResult(statistic=9.578947368421062, pvalue=0.00831683351100441)"
      ]
     },
     "execution_count": 2,
     "metadata": {},
     "output_type": "execute_result"
    }
   ],
   "source": [
    "x1=np.array([150, 160, 165, 145, 155])\n",
    "x2=np.array([140, 155, 150, 130, 135])\n",
    "x3=np.array([130, 130, 120, 130, 125])\n",
    "alpha=0.05\n",
    "stats.friedmanchisquare(x1, x2, x3)"
   ]
  },
  {
   "cell_type": "markdown",
   "id": "aca7f8a9",
   "metadata": {},
   "source": [
    "$pvalue<\\alpha(0.05)$ статистически значимых различия есть $H_0$ отвергаем, препарат влияет на давление"
   ]
  }
 ],
 "metadata": {
  "kernelspec": {
   "display_name": "Python 3 (ipykernel)",
   "language": "python",
   "name": "python3"
  },
  "language_info": {
   "codemirror_mode": {
    "name": "ipython",
    "version": 3
   },
   "file_extension": ".py",
   "mimetype": "text/x-python",
   "name": "python",
   "nbconvert_exporter": "python",
   "pygments_lexer": "ipython3",
   "version": "3.9.13"
  }
 },
 "nbformat": 4,
 "nbformat_minor": 5
}
