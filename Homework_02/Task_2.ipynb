{
 "cells": [
  {
   "cell_type": "code",
   "execution_count": 1,
   "id": "6d07bc01",
   "metadata": {},
   "outputs": [],
   "source": [
    "import numpy as np\n",
    "import pandas as pd\n",
    "from scipy.stats import  binom\n",
    "from scipy.stats import  poisson"
   ]
  },
  {
   "cell_type": "code",
   "execution_count": 2,
   "id": "95f583b2",
   "metadata": {},
   "outputs": [],
   "source": [
    "def combinations(n, k):\n",
    "    return (np.math.factorial(n)/(np.math.factorial(k)*np.math.factorial(n-k)))"
   ]
  },
  {
   "cell_type": "code",
   "execution_count": 3,
   "id": "4a476301",
   "metadata": {},
   "outputs": [],
   "source": [
    "p1 = binom.pmf(0,5000,0.0004)"
   ]
  },
  {
   "cell_type": "code",
   "execution_count": 4,
   "id": "aaa72064",
   "metadata": {},
   "outputs": [],
   "source": [
    "p2 = binom.pmf(2,5000,0.0004)"
   ]
  },
  {
   "cell_type": "code",
   "execution_count": 5,
   "id": "f0dbc0de",
   "metadata": {},
   "outputs": [],
   "source": [
    "lam = 5000*0.0004"
   ]
  },
  {
   "cell_type": "code",
   "execution_count": 6,
   "id": "88594e41",
   "metadata": {},
   "outputs": [],
   "source": [
    "p3 = poisson.pmf(0,lam)"
   ]
  },
  {
   "cell_type": "code",
   "execution_count": 7,
   "id": "604a6404",
   "metadata": {},
   "outputs": [],
   "source": [
    "p4 = poisson.pmf(2,lam)"
   ]
  },
  {
   "cell_type": "code",
   "execution_count": 8,
   "id": "f4cc68f0",
   "metadata": {},
   "outputs": [
    {
     "name": "stdout",
     "output_type": "stream",
     "text": [
      "Вероятность, что ни одна из них не перегорит в первый день (binom) = 0.13528114551440706\n"
     ]
    }
   ],
   "source": [
    "print('Вероятность, что ни одна из них не перегорит в первый день (binom) =',p1)"
   ]
  },
  {
   "cell_type": "code",
   "execution_count": 9,
   "id": "d5165ad1",
   "metadata": {},
   "outputs": [
    {
     "name": "stdout",
     "output_type": "stream",
     "text": [
      "Вероятность, что ни одна из них не перегорит в первый день (poisson) = 0.1353352832366127\n"
     ]
    }
   ],
   "source": [
    "print('Вероятность, что ни одна из них не перегорит в первый день (poisson) =',p3)"
   ]
  },
  {
   "cell_type": "code",
   "execution_count": 10,
   "id": "3cb76a85",
   "metadata": {},
   "outputs": [
    {
     "name": "stdout",
     "output_type": "stream",
     "text": [
      "Вероятность, что перегорят ровно две (binom) = 0.2707247150266155\n"
     ]
    }
   ],
   "source": [
    "print('Вероятность, что перегорят ровно две (binom) =',p2)"
   ]
  },
  {
   "cell_type": "code",
   "execution_count": 11,
   "id": "f2720ffe",
   "metadata": {},
   "outputs": [
    {
     "name": "stdout",
     "output_type": "stream",
     "text": [
      "Вероятность, что перегорят ровно две (poisson) = 0.2706705664732254\n"
     ]
    }
   ],
   "source": [
    "print('Вероятность, что перегорят ровно две (poisson) =',p4)"
   ]
  }
 ],
 "metadata": {
  "kernelspec": {
   "display_name": "Python 3 (ipykernel)",
   "language": "python",
   "name": "python3"
  },
  "language_info": {
   "codemirror_mode": {
    "name": "ipython",
    "version": 3
   },
   "file_extension": ".py",
   "mimetype": "text/x-python",
   "name": "python",
   "nbconvert_exporter": "python",
   "pygments_lexer": "ipython3",
   "version": "3.9.13"
  }
 },
 "nbformat": 4,
 "nbformat_minor": 5
}
