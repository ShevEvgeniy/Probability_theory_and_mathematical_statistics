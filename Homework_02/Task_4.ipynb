{
 "cells": [
  {
   "cell_type": "code",
   "execution_count": 1,
   "id": "11ea8518",
   "metadata": {},
   "outputs": [],
   "source": [
    "import numpy as np\n",
    "import pandas as pd\n",
    "from scipy.stats import  binom\n",
    "from scipy.stats import  poisson"
   ]
  },
  {
   "cell_type": "code",
   "execution_count": 2,
   "id": "f10187b6",
   "metadata": {},
   "outputs": [],
   "source": [
    "def combinations(n, k):\n",
    "    return (np.math.factorial(n)/(np.math.factorial(k)*np.math.factorial(n-k)))"
   ]
  },
  {
   "cell_type": "code",
   "execution_count": 3,
   "id": "318ca45b",
   "metadata": {},
   "outputs": [],
   "source": [
    "t1 = combinations(10, 2)"
   ]
  },
  {
   "cell_type": "code",
   "execution_count": 4,
   "id": "f9670086",
   "metadata": {},
   "outputs": [],
   "source": [
    "t2 = combinations(11, 2)"
   ]
  },
  {
   "cell_type": "code",
   "execution_count": 5,
   "id": "cd5a6e4a",
   "metadata": {},
   "outputs": [],
   "source": [
    "a1 = combinations(7, 2)"
   ]
  },
  {
   "cell_type": "code",
   "execution_count": 6,
   "id": "2dd0a9ec",
   "metadata": {},
   "outputs": [],
   "source": [
    "a2 = combinations(9, 2)"
   ]
  },
  {
   "cell_type": "code",
   "execution_count": 7,
   "id": "28fd01d6",
   "metadata": {},
   "outputs": [],
   "source": [
    "p1=a1/t1"
   ]
  },
  {
   "cell_type": "code",
   "execution_count": 8,
   "id": "55fe6342",
   "metadata": {},
   "outputs": [],
   "source": [
    "p2=a2/t2"
   ]
  },
  {
   "cell_type": "code",
   "execution_count": 9,
   "id": "72fb8f56",
   "metadata": {},
   "outputs": [],
   "source": [
    "p=p1*p2"
   ]
  },
  {
   "cell_type": "code",
   "execution_count": 10,
   "id": "25909823",
   "metadata": {},
   "outputs": [
    {
     "name": "stdout",
     "output_type": "stream",
     "text": [
      "Вероятность того, что все мячи белые p= 0.3054545454545455\n"
     ]
    }
   ],
   "source": [
    "print('Вероятность того, что все мячи белые p=',p)"
   ]
  },
  {
   "cell_type": "code",
   "execution_count": 11,
   "id": "3a66033b",
   "metadata": {},
   "outputs": [],
   "source": [
    "# Какова вероятность того, что ровно два мяча белые?"
   ]
  },
  {
   "cell_type": "code",
   "execution_count": 12,
   "id": "4464e398",
   "metadata": {},
   "outputs": [],
   "source": [
    "# Всего 3 варианта: 2 белых + 0 белых, 1 белый + 1 белый, 0 белых + 2 белых"
   ]
  },
  {
   "cell_type": "code",
   "execution_count": 13,
   "id": "88fab0ed",
   "metadata": {},
   "outputs": [],
   "source": [
    "a1 = combinations(7, 2)"
   ]
  },
  {
   "cell_type": "code",
   "execution_count": 14,
   "id": "6bb685bf",
   "metadata": {},
   "outputs": [],
   "source": [
    "a2 = combinations(2, 2)"
   ]
  },
  {
   "cell_type": "code",
   "execution_count": 15,
   "id": "22ece3b3",
   "metadata": {},
   "outputs": [],
   "source": [
    "p1=a1/t1"
   ]
  },
  {
   "cell_type": "code",
   "execution_count": 16,
   "id": "84b1b0d2",
   "metadata": {},
   "outputs": [],
   "source": [
    "p2=a2/t2"
   ]
  },
  {
   "cell_type": "code",
   "execution_count": 17,
   "id": "cd80d79c",
   "metadata": {},
   "outputs": [],
   "source": [
    "pa=p1*p2"
   ]
  },
  {
   "cell_type": "code",
   "execution_count": 18,
   "id": "b2ac620c",
   "metadata": {},
   "outputs": [
    {
     "name": "stdout",
     "output_type": "stream",
     "text": [
      "2 белых + 0 белых pa = 0.008484848484848484\n"
     ]
    }
   ],
   "source": [
    "print('2 белых + 0 белых pa =',pa)"
   ]
  },
  {
   "cell_type": "code",
   "execution_count": 19,
   "id": "7c89014c",
   "metadata": {},
   "outputs": [],
   "source": [
    "a1 = combinations(2, 2)"
   ]
  },
  {
   "cell_type": "code",
   "execution_count": 20,
   "id": "e53c8f50",
   "metadata": {},
   "outputs": [],
   "source": [
    "a2 = combinations(9, 2)"
   ]
  },
  {
   "cell_type": "code",
   "execution_count": 21,
   "id": "8579485f",
   "metadata": {},
   "outputs": [],
   "source": [
    "p1=a1/t1"
   ]
  },
  {
   "cell_type": "code",
   "execution_count": 22,
   "id": "0684b339",
   "metadata": {},
   "outputs": [],
   "source": [
    "p2=a2/t2"
   ]
  },
  {
   "cell_type": "code",
   "execution_count": 23,
   "id": "cdfcf9fb",
   "metadata": {},
   "outputs": [],
   "source": [
    "pb=p1*p2"
   ]
  },
  {
   "cell_type": "code",
   "execution_count": 24,
   "id": "773cefe8",
   "metadata": {},
   "outputs": [
    {
     "name": "stdout",
     "output_type": "stream",
     "text": [
      "0 белых + 2 белых pb= 0.014545454545454545\n"
     ]
    }
   ],
   "source": [
    "print('0 белых + 2 белых pb=',pb)"
   ]
  },
  {
   "cell_type": "code",
   "execution_count": 25,
   "id": "7571002b",
   "metadata": {},
   "outputs": [],
   "source": [
    "a1 = combinations(7, 1)"
   ]
  },
  {
   "cell_type": "code",
   "execution_count": 26,
   "id": "1d403623",
   "metadata": {},
   "outputs": [],
   "source": [
    "a2 = combinations(9, 1)"
   ]
  },
  {
   "cell_type": "code",
   "execution_count": 27,
   "id": "b358b2cd",
   "metadata": {},
   "outputs": [],
   "source": [
    "b1 = combinations(3, 1)"
   ]
  },
  {
   "cell_type": "code",
   "execution_count": 28,
   "id": "e5fb16b3",
   "metadata": {},
   "outputs": [],
   "source": [
    "b2 = combinations(2, 1)"
   ]
  },
  {
   "cell_type": "code",
   "execution_count": 29,
   "id": "468568c2",
   "metadata": {},
   "outputs": [],
   "source": [
    "p1=(a1*b1)/t1"
   ]
  },
  {
   "cell_type": "code",
   "execution_count": 30,
   "id": "7af99b6a",
   "metadata": {},
   "outputs": [],
   "source": [
    "p2=(a2*b2)/t2"
   ]
  },
  {
   "cell_type": "code",
   "execution_count": 31,
   "id": "03b9b5ff",
   "metadata": {},
   "outputs": [],
   "source": [
    "pc=p1*p2"
   ]
  },
  {
   "cell_type": "code",
   "execution_count": 32,
   "id": "1bc72d10",
   "metadata": {},
   "outputs": [
    {
     "name": "stdout",
     "output_type": "stream",
     "text": [
      "1 белый + 1 белый pc = 0.15272727272727274\n"
     ]
    }
   ],
   "source": [
    "print('1 белый + 1 белый pc =',pc)"
   ]
  },
  {
   "cell_type": "code",
   "execution_count": 33,
   "id": "9d4bc02d",
   "metadata": {},
   "outputs": [],
   "source": [
    "p=pa+pb+pc"
   ]
  },
  {
   "cell_type": "code",
   "execution_count": 34,
   "id": "e76142ab",
   "metadata": {},
   "outputs": [
    {
     "name": "stdout",
     "output_type": "stream",
     "text": [
      "Вероятность того, что ровно два мяча белые p = 0.17575757575757578\n"
     ]
    }
   ],
   "source": [
    "print('Вероятность того, что ровно два мяча белые p =',p)"
   ]
  },
  {
   "cell_type": "code",
   "execution_count": 35,
   "id": "d5823720",
   "metadata": {},
   "outputs": [],
   "source": [
    "a1 = combinations(3, 2)"
   ]
  },
  {
   "cell_type": "code",
   "execution_count": 36,
   "id": "cf15b3c9",
   "metadata": {},
   "outputs": [],
   "source": [
    "a2 = combinations(2, 2)"
   ]
  },
  {
   "cell_type": "code",
   "execution_count": 37,
   "id": "86f4e680",
   "metadata": {},
   "outputs": [],
   "source": [
    "p1=a1/t1"
   ]
  },
  {
   "cell_type": "code",
   "execution_count": 38,
   "id": "5ff037a3",
   "metadata": {},
   "outputs": [],
   "source": [
    "p2=a2/t2"
   ]
  },
  {
   "cell_type": "code",
   "execution_count": 39,
   "id": "fa59cefd",
   "metadata": {},
   "outputs": [],
   "source": [
    "p=1-p1*p2"
   ]
  },
  {
   "cell_type": "code",
   "execution_count": 40,
   "id": "3de98e61",
   "metadata": {},
   "outputs": [
    {
     "name": "stdout",
     "output_type": "stream",
     "text": [
      "Вероятность того, что хотя бы один мяч белый p = 0.9987878787878788\n"
     ]
    }
   ],
   "source": [
    "print('Вероятность того, что хотя бы один мяч белый p =',p)"
   ]
  }
 ],
 "metadata": {
  "kernelspec": {
   "display_name": "Python 3 (ipykernel)",
   "language": "python",
   "name": "python3"
  },
  "language_info": {
   "codemirror_mode": {
    "name": "ipython",
    "version": 3
   },
   "file_extension": ".py",
   "mimetype": "text/x-python",
   "name": "python",
   "nbconvert_exporter": "python",
   "pygments_lexer": "ipython3",
   "version": "3.9.13"
  }
 },
 "nbformat": 4,
 "nbformat_minor": 5
}
