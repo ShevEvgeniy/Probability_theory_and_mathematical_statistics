{
 "cells": [
  {
   "cell_type": "code",
   "execution_count": 1,
   "id": "01f676f2",
   "metadata": {},
   "outputs": [],
   "source": [
    "import numpy as np\n",
    "import pandas as pd\n",
    "from scipy.stats import  binom\n",
    "from scipy.stats import  poisson"
   ]
  },
  {
   "cell_type": "code",
   "execution_count": 2,
   "id": "ebb4aabd",
   "metadata": {},
   "outputs": [],
   "source": [
    "def combinations(n, k):\n",
    "    return (np.math.factorial(n)/(np.math.factorial(k)*np.math.factorial(n-k)))"
   ]
  },
  {
   "cell_type": "code",
   "execution_count": 3,
   "id": "0c1500b9",
   "metadata": {},
   "outputs": [],
   "source": [
    "t = combinations(100, 2) "
   ]
  },
  {
   "cell_type": "code",
   "execution_count": 4,
   "id": "84384d8b",
   "metadata": {},
   "outputs": [],
   "source": [
    "p = round(1*100/t,4)"
   ]
  },
  {
   "cell_type": "code",
   "execution_count": 5,
   "id": "cee9b34b",
   "metadata": {},
   "outputs": [
    {
     "name": "stdout",
     "output_type": "stream",
     "text": [
      "Вероятность того, что 2 приобретенных билета окажутся выигрышными = 0.0202 %\n"
     ]
    }
   ],
   "source": [
    "print('Вероятность того, что 2 приобретенных билета окажутся выигрышными =', p, '%')"
   ]
  }
 ],
 "metadata": {
  "kernelspec": {
   "display_name": "Python 3 (ipykernel)",
   "language": "python",
   "name": "python3"
  },
  "language_info": {
   "codemirror_mode": {
    "name": "ipython",
    "version": 3
   },
   "file_extension": ".py",
   "mimetype": "text/x-python",
   "name": "python",
   "nbconvert_exporter": "python",
   "pygments_lexer": "ipython3",
   "version": "3.9.13"
  }
 },
 "nbformat": 4,
 "nbformat_minor": 5
}
