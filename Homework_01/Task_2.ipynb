{
 "cells": [
  {
   "cell_type": "code",
   "execution_count": 1,
   "id": "07a997a2",
   "metadata": {},
   "outputs": [],
   "source": [
    "import numpy as np\n",
    "import pandas as pd\n",
    "from scipy.stats import  binom\n",
    "from scipy.stats import  poisson"
   ]
  },
  {
   "cell_type": "code",
   "execution_count": 2,
   "id": "37a5f154",
   "metadata": {},
   "outputs": [],
   "source": [
    "def combinations(n, k):\n",
    "    return (np.math.factorial(n)/(np.math.factorial(k)*np.math.factorial(n-k)))"
   ]
  },
  {
   "cell_type": "code",
   "execution_count": 3,
   "id": "aa7c414c",
   "metadata": {},
   "outputs": [],
   "source": [
    "t = combinations(10, 3)"
   ]
  },
  {
   "cell_type": "code",
   "execution_count": 4,
   "id": "9c4c4212",
   "metadata": {},
   "outputs": [],
   "source": [
    "p = round(100/t,2)"
   ]
  },
  {
   "cell_type": "code",
   "execution_count": 6,
   "id": "bd51b415",
   "metadata": {},
   "outputs": [
    {
     "name": "stdout",
     "output_type": "stream",
     "text": [
      "Вероятность того, что человек, не знающий код, откроет дверь с первой попытки = 0.83 %\n"
     ]
    }
   ],
   "source": [
    "print('Вероятность того, что человек, не знающий код, откроет дверь с первой попытки =',p, '%')"
   ]
  }
 ],
 "metadata": {
  "kernelspec": {
   "display_name": "Python 3 (ipykernel)",
   "language": "python",
   "name": "python3"
  },
  "language_info": {
   "codemirror_mode": {
    "name": "ipython",
    "version": 3
   },
   "file_extension": ".py",
   "mimetype": "text/x-python",
   "name": "python",
   "nbconvert_exporter": "python",
   "pygments_lexer": "ipython3",
   "version": "3.9.13"
  }
 },
 "nbformat": 4,
 "nbformat_minor": 5
}
