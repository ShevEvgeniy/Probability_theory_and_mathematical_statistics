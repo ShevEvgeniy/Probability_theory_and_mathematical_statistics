{
 "cells": [
  {
   "cell_type": "code",
   "execution_count": 1,
   "id": "aab4d9eb",
   "metadata": {},
   "outputs": [],
   "source": [
    "import numpy as np\n",
    "import pandas as pd\n",
    "from scipy.stats import  binom\n",
    "from scipy.stats import  poisson"
   ]
  },
  {
   "cell_type": "code",
   "execution_count": 2,
   "id": "5d56203a",
   "metadata": {},
   "outputs": [],
   "source": [
    "def combinations(n, k):\n",
    "    return (np.math.factorial(n)/(np.math.factorial(k)*np.math.factorial(n-k)))"
   ]
  },
  {
   "cell_type": "code",
   "execution_count": 3,
   "id": "09fcb9e4",
   "metadata": {},
   "outputs": [],
   "source": [
    "t = combinations(15, 3)"
   ]
  },
  {
   "cell_type": "code",
   "execution_count": 4,
   "id": "522c17d5",
   "metadata": {},
   "outputs": [],
   "source": [
    "a = combinations(9, 3)"
   ]
  },
  {
   "cell_type": "code",
   "execution_count": 5,
   "id": "a91c298c",
   "metadata": {},
   "outputs": [],
   "source": [
    "p = round(100*a/t,2)"
   ]
  },
  {
   "cell_type": "code",
   "execution_count": 6,
   "id": "0cd834a4",
   "metadata": {},
   "outputs": [
    {
     "name": "stdout",
     "output_type": "stream",
     "text": [
      "Вероятность того, что все извлеченные детали окрашены = 18.46 %\n"
     ]
    }
   ],
   "source": [
    "print('Вероятность того, что все извлеченные детали окрашены =',p, '%')"
   ]
  }
 ],
 "metadata": {
  "kernelspec": {
   "display_name": "Python 3 (ipykernel)",
   "language": "python",
   "name": "python3"
  },
  "language_info": {
   "codemirror_mode": {
    "name": "ipython",
    "version": 3
   },
   "file_extension": ".py",
   "mimetype": "text/x-python",
   "name": "python",
   "nbconvert_exporter": "python",
   "pygments_lexer": "ipython3",
   "version": "3.9.13"
  }
 },
 "nbformat": 4,
 "nbformat_minor": 5
}
