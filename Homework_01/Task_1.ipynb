{
 "cells": [
  {
   "cell_type": "code",
   "execution_count": 1,
   "id": "4fb6f752",
   "metadata": {},
   "outputs": [],
   "source": [
    "import numpy as np\n",
    "import pandas as pd\n",
    "from scipy.stats import  binom\n",
    "from scipy.stats import  poisson"
   ]
  },
  {
   "cell_type": "code",
   "execution_count": 2,
   "id": "bef329d1",
   "metadata": {},
   "outputs": [],
   "source": [
    "def combinations(n, k):\n",
    "    return (np.math.factorial(n)/(np.math.factorial(k)*np.math.factorial(n-k)))"
   ]
  },
  {
   "cell_type": "code",
   "execution_count": 3,
   "id": "64e1526a",
   "metadata": {},
   "outputs": [],
   "source": [
    "# Из колоды в 52 карты извлекаются случайным образом 4 карты."
   ]
  },
  {
   "cell_type": "code",
   "execution_count": 4,
   "id": "b88ab045",
   "metadata": {},
   "outputs": [],
   "source": [
    "# a) Найти вероятность того, что все карты – крести"
   ]
  },
  {
   "cell_type": "code",
   "execution_count": 5,
   "id": "574e4f41",
   "metadata": {},
   "outputs": [],
   "source": [
    "a = combinations(13, 4)"
   ]
  },
  {
   "cell_type": "code",
   "execution_count": 6,
   "id": "c8a729c5",
   "metadata": {},
   "outputs": [],
   "source": [
    "t = combinations(52, 4)"
   ]
  },
  {
   "cell_type": "code",
   "execution_count": 7,
   "id": "671d1f04",
   "metadata": {},
   "outputs": [],
   "source": [
    "p = round(a*100/t,2)"
   ]
  },
  {
   "cell_type": "code",
   "execution_count": 8,
   "id": "0978fe1d",
   "metadata": {},
   "outputs": [
    {
     "name": "stdout",
     "output_type": "stream",
     "text": [
      "Вероятность того, что все карты – крести = 0.26 %\n"
     ]
    }
   ],
   "source": [
    "print('Вероятность того, что все карты – крести =',p, '%')"
   ]
  },
  {
   "cell_type": "code",
   "execution_count": 9,
   "id": "c3a791c9",
   "metadata": {},
   "outputs": [],
   "source": [
    "#б) Найти вероятность, что среди 4-х карт окажется хотя бы один туз."
   ]
  },
  {
   "cell_type": "code",
   "execution_count": 10,
   "id": "b2815983",
   "metadata": {},
   "outputs": [],
   "source": [
    "# Найти все комбинации для тузов (1-й вариант решения)"
   ]
  },
  {
   "cell_type": "code",
   "execution_count": 11,
   "id": "7f708dad",
   "metadata": {},
   "outputs": [],
   "source": [
    "a1=combinations(4, 1)"
   ]
  },
  {
   "cell_type": "code",
   "execution_count": 12,
   "id": "c0799fc9",
   "metadata": {},
   "outputs": [],
   "source": [
    "a2=combinations(4, 2)"
   ]
  },
  {
   "cell_type": "code",
   "execution_count": 13,
   "id": "990b42b4",
   "metadata": {},
   "outputs": [],
   "source": [
    "a3=combinations(4, 3)"
   ]
  },
  {
   "cell_type": "code",
   "execution_count": 14,
   "id": "297ab99a",
   "metadata": {},
   "outputs": [],
   "source": [
    "a4=combinations(4, 4)"
   ]
  },
  {
   "cell_type": "code",
   "execution_count": 15,
   "id": "c7193b09",
   "metadata": {},
   "outputs": [],
   "source": [
    "b1=combinations(48,3)"
   ]
  },
  {
   "cell_type": "code",
   "execution_count": 16,
   "id": "276651ba",
   "metadata": {},
   "outputs": [],
   "source": [
    "b2=combinations(48,2)"
   ]
  },
  {
   "cell_type": "code",
   "execution_count": 17,
   "id": "bec01244",
   "metadata": {},
   "outputs": [],
   "source": [
    "b3=combinations(48,1)"
   ]
  },
  {
   "cell_type": "code",
   "execution_count": 18,
   "id": "e9da36e6",
   "metadata": {},
   "outputs": [],
   "source": [
    "p=round((a1*b1+a2*b2+a3*b3+a4)*100/t,2)"
   ]
  },
  {
   "cell_type": "code",
   "execution_count": 19,
   "id": "f8c99996",
   "metadata": {},
   "outputs": [
    {
     "name": "stdout",
     "output_type": "stream",
     "text": [
      "Вероятность того, что среди 4-х карт окажется хотя бы один туз = 28.13 %\n"
     ]
    }
   ],
   "source": [
    "print('Вероятность того, что среди 4-х карт окажется хотя бы один туз =',p, '%')"
   ]
  },
  {
   "cell_type": "code",
   "execution_count": 20,
   "id": "30db7593",
   "metadata": {},
   "outputs": [],
   "source": [
    "# Найти все комбинации без тузов (2-й вариант решения)"
   ]
  },
  {
   "cell_type": "code",
   "execution_count": 21,
   "id": "ab541e3a",
   "metadata": {},
   "outputs": [],
   "source": [
    "a=combinations(48,4)"
   ]
  },
  {
   "cell_type": "code",
   "execution_count": 22,
   "id": "bbeac6d2",
   "metadata": {},
   "outputs": [],
   "source": [
    "p=round((1-a/t)*100,2)"
   ]
  },
  {
   "cell_type": "code",
   "execution_count": 23,
   "id": "ffe5e50e",
   "metadata": {},
   "outputs": [
    {
     "name": "stdout",
     "output_type": "stream",
     "text": [
      "Вероятность того, что среди 4-х карт окажется хотя бы один туз = 28.13 %\n"
     ]
    }
   ],
   "source": [
    "print('Вероятность того, что среди 4-х карт окажется хотя бы один туз =',p, '%')"
   ]
  }
 ],
 "metadata": {
  "kernelspec": {
   "display_name": "Python 3 (ipykernel)",
   "language": "python",
   "name": "python3"
  },
  "language_info": {
   "codemirror_mode": {
    "name": "ipython",
    "version": 3
   },
   "file_extension": ".py",
   "mimetype": "text/x-python",
   "name": "python",
   "nbconvert_exporter": "python",
   "pygments_lexer": "ipython3",
   "version": "3.9.13"
  }
 },
 "nbformat": 4,
 "nbformat_minor": 5
}
