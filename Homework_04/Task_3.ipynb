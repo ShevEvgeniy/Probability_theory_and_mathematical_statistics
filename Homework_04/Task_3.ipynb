{
 "cells": [
  {
   "cell_type": "code",
   "execution_count": 1,
   "id": "7b853f41",
   "metadata": {},
   "outputs": [],
   "source": [
    "PB=1/3"
   ]
  },
  {
   "cell_type": "code",
   "execution_count": 2,
   "id": "bce21264",
   "metadata": {},
   "outputs": [],
   "source": [
    "PA=PB*0.9+PB*0.8+PB*0.6"
   ]
  },
  {
   "cell_type": "code",
   "execution_count": 3,
   "id": "88899355",
   "metadata": {},
   "outputs": [
    {
     "name": "stdout",
     "output_type": "stream",
     "text": [
      "Полная вероятность наступления события = 0.7667\n"
     ]
    }
   ],
   "source": [
    "print(f'Полная вероятность наступления события ={PA: .4f}')"
   ]
  },
  {
   "cell_type": "code",
   "execution_count": 4,
   "id": "09cb5031",
   "metadata": {},
   "outputs": [],
   "source": [
    "PAB1=PB*0.9/PA"
   ]
  },
  {
   "cell_type": "code",
   "execution_count": 5,
   "id": "5fc69636",
   "metadata": {},
   "outputs": [],
   "source": [
    "PAB2=PB*0.8/PA"
   ]
  },
  {
   "cell_type": "code",
   "execution_count": 6,
   "id": "9d317720",
   "metadata": {},
   "outputs": [],
   "source": [
    "PAB3=PB*0.6/PA"
   ]
  },
  {
   "cell_type": "code",
   "execution_count": 7,
   "id": "db5ac800",
   "metadata": {},
   "outputs": [
    {
     "name": "stdout",
     "output_type": "stream",
     "text": [
      "Вероятность того, что выстрел произвёл первый спортсмен:  0.3913\n"
     ]
    }
   ],
   "source": [
    "print(f'Вероятность того, что выстрел произвёл первый спортсмен: {PAB1: .4f}')"
   ]
  },
  {
   "cell_type": "code",
   "execution_count": 8,
   "id": "ed9a95a4",
   "metadata": {},
   "outputs": [
    {
     "name": "stdout",
     "output_type": "stream",
     "text": [
      "Вероятность того, что выстрел произвёл второй спортсмен:  0.3478\n"
     ]
    }
   ],
   "source": [
    "print(f'Вероятность того, что выстрел произвёл второй спортсмен: {PAB2: .4f}')"
   ]
  },
  {
   "cell_type": "code",
   "execution_count": 9,
   "id": "4da92b90",
   "metadata": {},
   "outputs": [
    {
     "name": "stdout",
     "output_type": "stream",
     "text": [
      "Вероятность того, что выстрел произвёл третий спортсмен:  0.2609\n"
     ]
    }
   ],
   "source": [
    "print(f'Вероятность того, что выстрел произвёл третий спортсмен: {PAB3: .4f}')"
   ]
  }
 ],
 "metadata": {
  "kernelspec": {
   "display_name": "Python 3 (ipykernel)",
   "language": "python",
   "name": "python3"
  },
  "language_info": {
   "codemirror_mode": {
    "name": "ipython",
    "version": 3
   },
   "file_extension": ".py",
   "mimetype": "text/x-python",
   "name": "python",
   "nbconvert_exporter": "python",
   "pygments_lexer": "ipython3",
   "version": "3.9.13"
  }
 },
 "nbformat": 4,
 "nbformat_minor": 5
}
