{
 "cells": [
  {
   "cell_type": "code",
   "execution_count": 1,
   "id": "35cf2977",
   "metadata": {},
   "outputs": [],
   "source": [
    "import numpy as np\n",
    "import pandas as pd\n",
    "from scipy.stats import  binom\n",
    "from scipy.stats import  poisson"
   ]
  },
  {
   "cell_type": "code",
   "execution_count": 2,
   "id": "f8cd60db",
   "metadata": {},
   "outputs": [],
   "source": [
    "def combinations(n, k):\n",
    "    return (np.math.factorial(n)/(np.math.factorial(k)*np.math.factorial(n-k)))"
   ]
  },
  {
   "cell_type": "code",
   "execution_count": 3,
   "id": "5984d05a",
   "metadata": {},
   "outputs": [],
   "source": [
    "sal = np.array([100, 80, 75, 77, 89, 33, 45, 25, 65, 17, 30, 24, 57, 55, 70, 75, 65, 84, 90, 150])"
   ]
  },
  {
   "cell_type": "code",
   "execution_count": 4,
   "id": "62b839d5",
   "metadata": {},
   "outputs": [],
   "source": [
    "sa=sal.sum()/sal.size"
   ]
  },
  {
   "cell_type": "code",
   "execution_count": 5,
   "id": "51c15a95",
   "metadata": {},
   "outputs": [],
   "source": [
    "sa_=sal.mean()"
   ]
  },
  {
   "cell_type": "code",
   "execution_count": 6,
   "id": "0e90405a",
   "metadata": {},
   "outputs": [],
   "source": [
    "saq=(sal-sa)**2"
   ]
  },
  {
   "cell_type": "code",
   "execution_count": 7,
   "id": "ff5058a1",
   "metadata": {},
   "outputs": [],
   "source": [
    "std=(saq.sum()/sal.size)**.5"
   ]
  },
  {
   "cell_type": "code",
   "execution_count": 8,
   "id": "c1759eec",
   "metadata": {},
   "outputs": [],
   "source": [
    "stdd=(saq.sum()/(sal.size-1))**.5"
   ]
  },
  {
   "cell_type": "code",
   "execution_count": 9,
   "id": "f350ceda",
   "metadata": {},
   "outputs": [],
   "source": [
    "std_=sal.std()"
   ]
  },
  {
   "cell_type": "code",
   "execution_count": 10,
   "id": "729b4d0f",
   "metadata": {},
   "outputs": [],
   "source": [
    "stdd_=sal.std(ddof=1)"
   ]
  },
  {
   "cell_type": "code",
   "execution_count": 11,
   "id": "36831350",
   "metadata": {},
   "outputs": [],
   "source": [
    "var=saq.sum()/sal.size"
   ]
  },
  {
   "cell_type": "code",
   "execution_count": 12,
   "id": "5212edd4",
   "metadata": {},
   "outputs": [],
   "source": [
    "var_=sal.var()"
   ]
  },
  {
   "cell_type": "code",
   "execution_count": 13,
   "id": "2db89bed",
   "metadata": {},
   "outputs": [],
   "source": [
    "vard=saq.sum()/(sal.size-1)"
   ]
  },
  {
   "cell_type": "code",
   "execution_count": 14,
   "id": "fd251f31",
   "metadata": {},
   "outputs": [],
   "source": [
    "vard_=sal.var(ddof=1)"
   ]
  },
  {
   "cell_type": "code",
   "execution_count": 15,
   "id": "62665b70",
   "metadata": {},
   "outputs": [
    {
     "name": "stdout",
     "output_type": "stream",
     "text": [
      "Среднее арифметическое = 65.3\n"
     ]
    }
   ],
   "source": [
    "print(\"Среднее арифметическое =\",sa_)"
   ]
  },
  {
   "cell_type": "code",
   "execution_count": 16,
   "id": "5d18739f",
   "metadata": {},
   "outputs": [
    {
     "name": "stdout",
     "output_type": "stream",
     "text": [
      "Cреднее квадратичное отклонение = 30.823854398825596\n"
     ]
    }
   ],
   "source": [
    "print(\"Cреднее квадратичное отклонение =\",std_)"
   ]
  },
  {
   "cell_type": "code",
   "execution_count": 17,
   "id": "880f4473",
   "metadata": {},
   "outputs": [
    {
     "name": "stdout",
     "output_type": "stream",
     "text": [
      "Дисперсия смещенная оценка = 950.11\n"
     ]
    }
   ],
   "source": [
    "print(\"Дисперсия смещенная оценка =\",var_)"
   ]
  },
  {
   "cell_type": "code",
   "execution_count": 21,
   "id": "1b678d9e",
   "metadata": {},
   "outputs": [
    {
     "name": "stdout",
     "output_type": "stream",
     "text": [
      "Дисперсия несмещенная оценка = 1000.1157894736842\n"
     ]
    }
   ],
   "source": [
    "print(\"Дисперсия несмещенная оценка =\",vard_)"
   ]
  }
 ],
 "metadata": {
  "kernelspec": {
   "display_name": "Python 3 (ipykernel)",
   "language": "python",
   "name": "python3"
  },
  "language_info": {
   "codemirror_mode": {
    "name": "ipython",
    "version": 3
   },
   "file_extension": ".py",
   "mimetype": "text/x-python",
   "name": "python",
   "nbconvert_exporter": "python",
   "pygments_lexer": "ipython3",
   "version": "3.9.13"
  }
 },
 "nbformat": 4,
 "nbformat_minor": 5
}
