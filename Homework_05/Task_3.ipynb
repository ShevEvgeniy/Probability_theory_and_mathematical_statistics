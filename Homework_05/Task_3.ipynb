{
 "cells": [
  {
   "cell_type": "markdown",
   "id": "7a8188b4",
   "metadata": {},
   "source": [
    "Из условия задачи следует что нужно проводить проверку следующих гипотез:  \n",
    "$H0: \\mu=\\mu_0=200$, где $\\mu$ и $\\mu_0$ средние выборки и генеральной совокупности и выборки, соответственно.  \n",
    "Альтернативная гипотеза:  \n",
    "$H1: \\mu\\neq\\mu_0$  \n",
    "при этом будем использовать **двусторонний** критерий c уровнем значимости $\\alpha=1-0.99=0.01$  \n",
    "Поскольку нам не известны ни среднее, ни дисперсия генеральной совокупности, то для проверки гипотезы будем использовать $t$-критерий.   "
   ]
  },
  {
   "cell_type": "code",
   "execution_count": 1,
   "id": "af803bac",
   "metadata": {},
   "outputs": [],
   "source": [
    "import numpy as np"
   ]
  },
  {
   "cell_type": "code",
   "execution_count": 2,
   "id": "d606c7d9",
   "metadata": {},
   "outputs": [],
   "source": [
    "cookies=np.array([202, 203, 199, 197, 195, 201, 200, 204, 194, 190])"
   ]
  },
  {
   "cell_type": "markdown",
   "id": "cad8e0dd",
   "metadata": {},
   "source": [
    "Расчитаем наблюдаемое значение t-критерия $t_н$"
   ]
  },
  {
   "cell_type": "code",
   "execution_count": 3,
   "id": "e8e9c0fe",
   "metadata": {},
   "outputs": [
    {
     "name": "stdout",
     "output_type": "stream",
     "text": [
      "Наблюдаемое значение t-критерия: -1.0651\n"
     ]
    }
   ],
   "source": [
    "tn=(np.mean(cookies)-200)/(np.std(cookies,ddof=1)/len(cookies)**0.5)\n",
    "print(f'Наблюдаемое значение t-критерия: {tn: .4f}')"
   ]
  },
  {
   "cell_type": "markdown",
   "id": "a8d47866",
   "metadata": {},
   "source": [
    "Найдем табличное значение $t$-критерия $t_t$, для $\\alpha/2=0.01/2=0.005$"
   ]
  },
  {
   "cell_type": "code",
   "execution_count": 4,
   "id": "7f498b49",
   "metadata": {},
   "outputs": [],
   "source": [
    "import scipy.stats as stats"
   ]
  },
  {
   "cell_type": "code",
   "execution_count": 5,
   "id": "fbef37bb",
   "metadata": {},
   "outputs": [
    {
     "name": "stdout",
     "output_type": "stream",
     "text": [
      "Табличное значение t-критерия:  3.2498\n"
     ]
    }
   ],
   "source": [
    "tt=stats.t.ppf(0.995,len(cookies)-1)\n",
    "print(f'Табличное значение t-критерия: {tt: .4f}')"
   ]
  },
  {
   "cell_type": "markdown",
   "id": "9a7b53af",
   "metadata": {},
   "source": [
    "Сравним полученные значения (поскольку у нас двусторонний критерий, то используем абсолютное значение полученного t-критерия):"
   ]
  },
  {
   "cell_type": "code",
   "execution_count": 6,
   "id": "4d7227b9",
   "metadata": {},
   "outputs": [
    {
     "data": {
      "text/plain": [
       "True"
      ]
     },
     "execution_count": 6,
     "metadata": {},
     "output_type": "execute_result"
    }
   ],
   "source": [
    "np.abs(tn)<tt"
   ]
  },
  {
   "cell_type": "markdown",
   "id": "48d6b04b",
   "metadata": {},
   "source": [
    "Поскольку $|t_н|<t_t$, **принимаем** нулевую гипотезу на уровне значимости $\\alpha=0.01$"
   ]
  },
  {
   "cell_type": "markdown",
   "id": "ece51a7a",
   "metadata": {},
   "source": [
    "Ответ: **Принимаем** нулевую гипотезу $H0: \\mu_0=200$ на уровне значимости $\\alpha=0.01$  "
   ]
  }
 ],
 "metadata": {
  "kernelspec": {
   "display_name": "Python 3",
   "language": "python",
   "name": "python3"
  },
  "language_info": {
   "codemirror_mode": {
    "name": "ipython",
    "version": 3
   },
   "file_extension": ".py",
   "mimetype": "text/x-python",
   "name": "python",
   "nbconvert_exporter": "python",
   "pygments_lexer": "ipython3",
   "version": "3.10.9 (tags/v3.10.9:1dd9be6, Dec  6 2022, 20:01:21) [MSC v.1934 64 bit (AMD64)]"
  },
  "vscode": {
   "interpreter": {
    "hash": "3727e6f567fba6cced93782b723581f5832b6812189ba1e48476b7606d89b650"
   }
  }
 },
 "nbformat": 4,
 "nbformat_minor": 5
}
