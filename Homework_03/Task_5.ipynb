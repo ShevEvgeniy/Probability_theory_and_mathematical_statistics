{
 "cells": [
  {
   "cell_type": "code",
   "execution_count": 1,
   "id": "5f4ebd60",
   "metadata": {},
   "outputs": [],
   "source": [
    "import numpy as np\n",
    "import pandas as pd\n",
    "from scipy.stats import  binom\n",
    "from scipy.stats import  poisson"
   ]
  },
  {
   "cell_type": "code",
   "execution_count": 2,
   "id": "70eb8f28",
   "metadata": {},
   "outputs": [],
   "source": [
    "def combinations(n, k):\n",
    "    return (np.math.factorial(n)/(np.math.factorial(k)*np.math.factorial(n-k)))"
   ]
  },
  {
   "cell_type": "code",
   "execution_count": 3,
   "id": "2e124bd3",
   "metadata": {},
   "outputs": [],
   "source": [
    "p1=0.1\n",
    "p2=0.2\n",
    "p3=0.25\n",
    "q1=1-p1\n",
    "q2=1-p2\n",
    "q3=1-p3"
   ]
  },
  {
   "cell_type": "code",
   "execution_count": 4,
   "id": "3dc64928",
   "metadata": {},
   "outputs": [],
   "source": [
    "p=p1*p2*p3"
   ]
  },
  {
   "cell_type": "code",
   "execution_count": 5,
   "id": "0e63f7de",
   "metadata": {},
   "outputs": [
    {
     "name": "stdout",
     "output_type": "stream",
     "text": [
      "Вероятность выхода из строя всех деталей = 0.005000000000000001\n"
     ]
    }
   ],
   "source": [
    "print(\"Вероятность выхода из строя всех деталей =\",p)"
   ]
  },
  {
   "cell_type": "code",
   "execution_count": 6,
   "id": "9f8c56c0",
   "metadata": {},
   "outputs": [],
   "source": [
    "p12=p1*p2*q3\n",
    "p13=p1*q2*p3\n",
    "p23=q1*p2*p3\n",
    "pt2=p12+p13+p23"
   ]
  },
  {
   "cell_type": "code",
   "execution_count": 7,
   "id": "0f7f3563",
   "metadata": {},
   "outputs": [
    {
     "name": "stdout",
     "output_type": "stream",
     "text": [
      "Вероятность выхода из строя 2х деталей = 0.08000000000000002\n"
     ]
    }
   ],
   "source": [
    "print(\"Вероятность выхода из строя 2х деталей =\",pt2)"
   ]
  },
  {
   "cell_type": "code",
   "execution_count": 8,
   "id": "12e403f4",
   "metadata": {},
   "outputs": [],
   "source": [
    "pn=q1*q2*q3\n",
    "p=1-pn"
   ]
  },
  {
   "cell_type": "code",
   "execution_count": 9,
   "id": "a218af3d",
   "metadata": {},
   "outputs": [
    {
     "name": "stdout",
     "output_type": "stream",
     "text": [
      "Вероятность выхода хотябы 1й детали = 0.45999999999999996\n"
     ]
    }
   ],
   "source": [
    "print(\"Вероятность выхода хотябы 1й детали =\",p)"
   ]
  },
  {
   "cell_type": "code",
   "execution_count": 10,
   "id": "6fb9ed4e",
   "metadata": {},
   "outputs": [],
   "source": [
    "p1=p1*q2*q3\n",
    "p2=q1*p2*q3\n",
    "p3=q1*q2*p3\n",
    "p=p1+p2+p3+pt2"
   ]
  },
  {
   "cell_type": "code",
   "execution_count": 11,
   "id": "c8ec6967",
   "metadata": {},
   "outputs": [
    {
     "name": "stdout",
     "output_type": "stream",
     "text": [
      "Вероятность выхода из строя 1-2х деталей = 0.455\n"
     ]
    }
   ],
   "source": [
    "print(\"Вероятность выхода из строя 1-2х деталей =\",p)"
   ]
  }
 ],
 "metadata": {
  "kernelspec": {
   "display_name": "Python 3 (ipykernel)",
   "language": "python",
   "name": "python3"
  },
  "language_info": {
   "codemirror_mode": {
    "name": "ipython",
    "version": 3
   },
   "file_extension": ".py",
   "mimetype": "text/x-python",
   "name": "python",
   "nbconvert_exporter": "python",
   "pygments_lexer": "ipython3",
   "version": "3.9.13"
  }
 },
 "nbformat": 4,
 "nbformat_minor": 5
}
