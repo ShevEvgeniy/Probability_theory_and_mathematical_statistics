{
 "cells": [
  {
   "cell_type": "code",
   "execution_count": 1,
   "id": "c7aefe75",
   "metadata": {},
   "outputs": [],
   "source": [
    "import numpy as np\n",
    "import pandas as pd\n",
    "from scipy.stats import  binom\n",
    "from scipy.stats import  poisson"
   ]
  },
  {
   "cell_type": "code",
   "execution_count": 2,
   "id": "601a15c4",
   "metadata": {},
   "outputs": [],
   "source": [
    "def combinations(n, k):\n",
    "    return (np.math.factorial(n)/(np.math.factorial(k)*np.math.factorial(n-k)))"
   ]
  },
  {
   "cell_type": "code",
   "execution_count": 3,
   "id": "74f1450a",
   "metadata": {},
   "outputs": [],
   "source": [
    "# Возможные варианты: a) 2 из 2 белые и 1 из 4 белый, b) 1 из 2х белый и 2 из 4 белые, c)0 из 2х белые и 3 из 4 белые"
   ]
  },
  {
   "cell_type": "code",
   "execution_count": 4,
   "id": "0a4f70cc",
   "metadata": {},
   "outputs": [],
   "source": [
    "t1=combinations(8, 2)"
   ]
  },
  {
   "cell_type": "code",
   "execution_count": 5,
   "id": "82e9104e",
   "metadata": {},
   "outputs": [],
   "source": [
    "t2=combinations(12, 4)"
   ]
  },
  {
   "cell_type": "code",
   "execution_count": 6,
   "id": "ba90f949",
   "metadata": {},
   "outputs": [],
   "source": [
    "#a)"
   ]
  },
  {
   "cell_type": "code",
   "execution_count": 7,
   "id": "c7734091",
   "metadata": {},
   "outputs": [],
   "source": [
    "a1=combinations(5, 2)"
   ]
  },
  {
   "cell_type": "code",
   "execution_count": 8,
   "id": "0eea1e3c",
   "metadata": {},
   "outputs": [],
   "source": [
    "a2=combinations(5, 1)"
   ]
  },
  {
   "cell_type": "code",
   "execution_count": 9,
   "id": "75706c87",
   "metadata": {},
   "outputs": [],
   "source": [
    "b2=combinations(7, 3)"
   ]
  },
  {
   "cell_type": "code",
   "execution_count": 10,
   "id": "51a9e4c2",
   "metadata": {},
   "outputs": [],
   "source": [
    "p1=a1/t1"
   ]
  },
  {
   "cell_type": "code",
   "execution_count": 11,
   "id": "bbef5cb1",
   "metadata": {},
   "outputs": [],
   "source": [
    "p2=(a2*b2)/t2"
   ]
  },
  {
   "cell_type": "code",
   "execution_count": 12,
   "id": "5284c889",
   "metadata": {},
   "outputs": [],
   "source": [
    "pa=p1*p2"
   ]
  },
  {
   "cell_type": "code",
   "execution_count": 13,
   "id": "bc4e65a0",
   "metadata": {},
   "outputs": [
    {
     "name": "stdout",
     "output_type": "stream",
     "text": [
      "2 из 2 белые и 1 из 4 белый = 0.12626262626262627\n"
     ]
    }
   ],
   "source": [
    "print(\"2 из 2 белые и 1 из 4 белый =\",pa)"
   ]
  },
  {
   "cell_type": "code",
   "execution_count": 14,
   "id": "92a75b3e",
   "metadata": {},
   "outputs": [],
   "source": [
    "#b)"
   ]
  },
  {
   "cell_type": "code",
   "execution_count": 15,
   "id": "b8cdc55e",
   "metadata": {},
   "outputs": [],
   "source": [
    "a1=combinations(5, 1)"
   ]
  },
  {
   "cell_type": "code",
   "execution_count": 16,
   "id": "f6d0c463",
   "metadata": {},
   "outputs": [],
   "source": [
    "b1=combinations(3, 1)"
   ]
  },
  {
   "cell_type": "code",
   "execution_count": 17,
   "id": "c001e490",
   "metadata": {},
   "outputs": [],
   "source": [
    "a2=combinations(5, 2)"
   ]
  },
  {
   "cell_type": "code",
   "execution_count": 18,
   "id": "d119e7e0",
   "metadata": {},
   "outputs": [],
   "source": [
    "b2=combinations(7, 2)"
   ]
  },
  {
   "cell_type": "code",
   "execution_count": 19,
   "id": "9e5053d5",
   "metadata": {},
   "outputs": [],
   "source": [
    "p1=(a1*b1)/t1"
   ]
  },
  {
   "cell_type": "code",
   "execution_count": 20,
   "id": "0df3ec9b",
   "metadata": {},
   "outputs": [],
   "source": [
    "p2=(a2*b2)/t2"
   ]
  },
  {
   "cell_type": "code",
   "execution_count": 21,
   "id": "fc4ae348",
   "metadata": {},
   "outputs": [],
   "source": [
    "pb=p1*p2"
   ]
  },
  {
   "cell_type": "code",
   "execution_count": 22,
   "id": "11426623",
   "metadata": {},
   "outputs": [
    {
     "name": "stdout",
     "output_type": "stream",
     "text": [
      "1 из 2х белый и 2 из 4 белые = 0.22727272727272727\n"
     ]
    }
   ],
   "source": [
    "print(\"1 из 2х белый и 2 из 4 белые =\",pb)"
   ]
  },
  {
   "cell_type": "code",
   "execution_count": 23,
   "id": "d1ae6a8e",
   "metadata": {},
   "outputs": [],
   "source": [
    "#c)"
   ]
  },
  {
   "cell_type": "code",
   "execution_count": 24,
   "id": "814c039a",
   "metadata": {},
   "outputs": [],
   "source": [
    "a1=combinations(3, 2)"
   ]
  },
  {
   "cell_type": "code",
   "execution_count": 25,
   "id": "bf509e5f",
   "metadata": {},
   "outputs": [],
   "source": [
    "a2=combinations(5, 3)"
   ]
  },
  {
   "cell_type": "code",
   "execution_count": 26,
   "id": "a71db32e",
   "metadata": {},
   "outputs": [],
   "source": [
    "b2=combinations(7, 1)"
   ]
  },
  {
   "cell_type": "code",
   "execution_count": 27,
   "id": "fcc014d6",
   "metadata": {},
   "outputs": [],
   "source": [
    "p1=a1/t1"
   ]
  },
  {
   "cell_type": "code",
   "execution_count": 28,
   "id": "1f1a5e6a",
   "metadata": {},
   "outputs": [],
   "source": [
    "p2=(a2*b2)/t2"
   ]
  },
  {
   "cell_type": "code",
   "execution_count": 29,
   "id": "23201dc0",
   "metadata": {},
   "outputs": [],
   "source": [
    "pc=p1*p2"
   ]
  },
  {
   "cell_type": "code",
   "execution_count": 30,
   "id": "7ebf95d3",
   "metadata": {},
   "outputs": [
    {
     "name": "stdout",
     "output_type": "stream",
     "text": [
      "0 из 2х белые и 3 из 4 белые = 0.01515151515151515\n"
     ]
    }
   ],
   "source": [
    "print(\"0 из 2х белые и 3 из 4 белые =\",pc)"
   ]
  },
  {
   "cell_type": "code",
   "execution_count": 31,
   "id": "3161c025",
   "metadata": {},
   "outputs": [],
   "source": [
    "p=pa+pb+pc"
   ]
  },
  {
   "cell_type": "code",
   "execution_count": 32,
   "id": "c941b215",
   "metadata": {},
   "outputs": [
    {
     "name": "stdout",
     "output_type": "stream",
     "text": [
      "Вероятность того, что 3 мяча белые = 0.3686868686868687\n"
     ]
    }
   ],
   "source": [
    "print(\"Вероятность того, что 3 мяча белые =\",p)"
   ]
  }
 ],
 "metadata": {
  "kernelspec": {
   "display_name": "Python 3 (ipykernel)",
   "language": "python",
   "name": "python3"
  },
  "language_info": {
   "codemirror_mode": {
    "name": "ipython",
    "version": 3
   },
   "file_extension": ".py",
   "mimetype": "text/x-python",
   "name": "python",
   "nbconvert_exporter": "python",
   "pygments_lexer": "ipython3",
   "version": "3.9.13"
  }
 },
 "nbformat": 4,
 "nbformat_minor": 5
}
