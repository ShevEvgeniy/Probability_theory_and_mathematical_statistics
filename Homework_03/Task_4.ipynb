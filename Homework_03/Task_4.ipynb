{
 "cells": [
  {
   "cell_type": "code",
   "execution_count": 1,
   "id": "179550e0",
   "metadata": {},
   "outputs": [],
   "source": [
    "import numpy as np\n",
    "import pandas as pd\n",
    "from scipy.stats import  binom\n",
    "from scipy.stats import  poisson"
   ]
  },
  {
   "cell_type": "code",
   "execution_count": 2,
   "id": "e8e79f4b",
   "metadata": {},
   "outputs": [],
   "source": [
    "def combinations(n, k):\n",
    "    return (np.math.factorial(n)/(np.math.factorial(k)*np.math.factorial(n-k)))"
   ]
  },
  {
   "cell_type": "code",
   "execution_count": 3,
   "id": "1cb07e97",
   "metadata": {},
   "outputs": [],
   "source": [
    "qa=0.25"
   ]
  },
  {
   "cell_type": "code",
   "execution_count": 4,
   "id": "c7771597",
   "metadata": {},
   "outputs": [],
   "source": [
    "qb=0.25"
   ]
  },
  {
   "cell_type": "code",
   "execution_count": 5,
   "id": "ee7409e1",
   "metadata": {},
   "outputs": [],
   "source": [
    "qc=0.5"
   ]
  },
  {
   "cell_type": "code",
   "execution_count": 6,
   "id": "699c2ef1",
   "metadata": {},
   "outputs": [],
   "source": [
    "pa=0.8"
   ]
  },
  {
   "cell_type": "code",
   "execution_count": 7,
   "id": "c0c5106f",
   "metadata": {},
   "outputs": [],
   "source": [
    "pb=0.7"
   ]
  },
  {
   "cell_type": "code",
   "execution_count": 8,
   "id": "84907f05",
   "metadata": {},
   "outputs": [],
   "source": [
    "pc=0.9"
   ]
  },
  {
   "cell_type": "code",
   "execution_count": 9,
   "id": "a0ae5a18",
   "metadata": {},
   "outputs": [],
   "source": [
    "pt=qa*pa+qb*pb+qc*pc"
   ]
  },
  {
   "cell_type": "code",
   "execution_count": 10,
   "id": "ce365d3d",
   "metadata": {},
   "outputs": [
    {
     "name": "stdout",
     "output_type": "stream",
     "text": [
      "Доля сдавщих студентов от общего количества поступивших = 0.825\n"
     ]
    }
   ],
   "source": [
    "print(\"Доля сдавщих студентов от общего количества поступивших =\",pt)"
   ]
  },
  {
   "cell_type": "code",
   "execution_count": 11,
   "id": "0f162a0b",
   "metadata": {},
   "outputs": [],
   "source": [
    "p=qa*pa/pt"
   ]
  },
  {
   "cell_type": "code",
   "execution_count": 12,
   "id": "e41c1666",
   "metadata": {},
   "outputs": [
    {
     "name": "stdout",
     "output_type": "stream",
     "text": [
      "Вероятность, что он учится из факультета A = 0.24242424242424246\n"
     ]
    }
   ],
   "source": [
    "print(\"Вероятность, что он учится из факультета A =\",p)"
   ]
  },
  {
   "cell_type": "code",
   "execution_count": 13,
   "id": "4c9c56ca",
   "metadata": {},
   "outputs": [],
   "source": [
    "p=qb*pb/pt"
   ]
  },
  {
   "cell_type": "code",
   "execution_count": 14,
   "id": "b31b9693",
   "metadata": {},
   "outputs": [
    {
     "name": "stdout",
     "output_type": "stream",
     "text": [
      "Вероятность, что он учится из факультета B = 0.21212121212121213\n"
     ]
    }
   ],
   "source": [
    "print(\"Вероятность, что он учится из факультета B =\",p)"
   ]
  },
  {
   "cell_type": "code",
   "execution_count": 15,
   "id": "97e81857",
   "metadata": {},
   "outputs": [],
   "source": [
    "p=qc*pc/pt"
   ]
  },
  {
   "cell_type": "code",
   "execution_count": 16,
   "id": "5ea8b531",
   "metadata": {},
   "outputs": [
    {
     "name": "stdout",
     "output_type": "stream",
     "text": [
      "Вероятность, что он учится из факультета C = 0.5454545454545455\n"
     ]
    }
   ],
   "source": [
    "print(\"Вероятность, что он учится из факультета C =\",p)"
   ]
  }
 ],
 "metadata": {
  "kernelspec": {
   "display_name": "Python 3 (ipykernel)",
   "language": "python",
   "name": "python3"
  },
  "language_info": {
   "codemirror_mode": {
    "name": "ipython",
    "version": 3
   },
   "file_extension": ".py",
   "mimetype": "text/x-python",
   "name": "python",
   "nbconvert_exporter": "python",
   "pygments_lexer": "ipython3",
   "version": "3.9.13"
  }
 },
 "nbformat": 4,
 "nbformat_minor": 5
}
